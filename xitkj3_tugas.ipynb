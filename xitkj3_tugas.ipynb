{
  "nbformat": 4,
  "nbformat_minor": 0,
  "metadata": {
    "colab": {
      "provenance": [],
      "authorship_tag": "ABX9TyNJmpkBSJMz8N5djvx3hOFm",
      "include_colab_link": true
    },
    "kernelspec": {
      "name": "python3",
      "display_name": "Python 3"
    },
    "language_info": {
      "name": "python"
    }
  },
  "cells": [
    {
      "cell_type": "markdown",
      "metadata": {
        "id": "view-in-github",
        "colab_type": "text"
      },
      "source": [
        "<a href=\"https://colab.research.google.com/github/fiomas058-rgb/Projek-Kelas-XI-TKJ-4/blob/main/xitkj3_tugas.ipynb\" target=\"_parent\"><img src=\"https://colab.research.google.com/assets/colab-badge.svg\" alt=\"Open In Colab\"/></a>"
      ]
    },
    {
      "cell_type": "code",
      "execution_count": null,
      "metadata": {
        "id": "l1c3qRXU8V-x"
      },
      "outputs": [],
      "source": []
    },
    {
      "cell_type": "code",
      "metadata": {
        "colab": {
          "base_uri": "https://localhost:8080/"
        },
        "id": "04c90467",
        "outputId": "ae80b8cf-bfed-43ed-e1a0-c96b4a4e9551"
      },
      "source": [
        "angka = 10\n",
        "\n",
        "if angka > 0:\n",
        "  print(\"Angka ini positif\")\n",
        "else:\n",
        "  print(\"Angka ini bukan positif (bisa nol atau negatif)\")"
      ],
      "execution_count": null,
      "outputs": [
        {
          "output_type": "stream",
          "name": "stdout",
          "text": [
            "Angka ini positif\n"
          ]
        }
      ]
    },
    {
      "cell_type": "code",
      "metadata": {
        "colab": {
          "base_uri": "https://localhost:8080/"
        },
        "id": "ee17b8a5",
        "outputId": "0cca678a-0585-4c03-c753-f54f1d7dc593"
      },
      "source": [
        "nilai_ujian = 75\n",
        "\n",
        "if nilai_ujian >= 70:\n",
        "  print(\"Selamat! Anda lulus ujian.\")\n",
        "else:\n",
        "  print(\"Maaf, Anda belum lulus. Silakan coba lagi.\")"
      ],
      "execution_count": null,
      "outputs": [
        {
          "output_type": "stream",
          "name": "stdout",
          "text": [
            "Selamat! Anda lulus ujian.\n"
          ]
        }
      ]
    }
  ]
}